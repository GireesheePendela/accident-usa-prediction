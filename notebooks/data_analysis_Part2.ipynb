{
 "cells": [
  {
   "cell_type": "markdown",
   "metadata": {},
   "source": [
    "## 4. DATA ANALYSIS (PART 2)\n"
   ]
  },
  {
   "cell_type": "code",
   "execution_count": 7,
   "metadata": {},
   "outputs": [
    {
     "data": {
      "text/html": [
       "<div>\n",
       "<style scoped>\n",
       "    .dataframe tbody tr th:only-of-type {\n",
       "        vertical-align: middle;\n",
       "    }\n",
       "\n",
       "    .dataframe tbody tr th {\n",
       "        vertical-align: top;\n",
       "    }\n",
       "\n",
       "    .dataframe thead th {\n",
       "        text-align: right;\n",
       "    }\n",
       "</style>\n",
       "<table border=\"1\" class=\"dataframe\">\n",
       "  <thead>\n",
       "    <tr style=\"text-align: right;\">\n",
       "      <th></th>\n",
       "      <th>ID</th>\n",
       "      <th>Start_Time</th>\n",
       "      <th>End_Time</th>\n",
       "      <th>State</th>\n",
       "      <th>City</th>\n",
       "      <th>Start_Lat</th>\n",
       "      <th>Start_Lng</th>\n",
       "      <th>Temperature(F)</th>\n",
       "      <th>Weather_Condition</th>\n",
       "      <th>Hour</th>\n",
       "    </tr>\n",
       "  </thead>\n",
       "  <tbody>\n",
       "    <tr>\n",
       "      <th>0</th>\n",
       "      <td>A-1</td>\n",
       "      <td>2016-02-08 05:46:00</td>\n",
       "      <td>2016-02-08 11:00:00</td>\n",
       "      <td>OH</td>\n",
       "      <td>Dayton</td>\n",
       "      <td>39.865147</td>\n",
       "      <td>-84.058723</td>\n",
       "      <td>36.9</td>\n",
       "      <td>Light Rain</td>\n",
       "      <td>5.0</td>\n",
       "    </tr>\n",
       "    <tr>\n",
       "      <th>1</th>\n",
       "      <td>A-2</td>\n",
       "      <td>2016-02-08 06:07:59</td>\n",
       "      <td>2016-02-08 06:37:59</td>\n",
       "      <td>OH</td>\n",
       "      <td>Reynoldsburg</td>\n",
       "      <td>39.928059</td>\n",
       "      <td>-82.831184</td>\n",
       "      <td>37.9</td>\n",
       "      <td>Light Rain</td>\n",
       "      <td>6.0</td>\n",
       "    </tr>\n",
       "    <tr>\n",
       "      <th>2</th>\n",
       "      <td>A-3</td>\n",
       "      <td>2016-02-08 06:49:27</td>\n",
       "      <td>2016-02-08 07:19:27</td>\n",
       "      <td>OH</td>\n",
       "      <td>Williamsburg</td>\n",
       "      <td>39.063148</td>\n",
       "      <td>-84.032608</td>\n",
       "      <td>36.0</td>\n",
       "      <td>Overcast</td>\n",
       "      <td>6.0</td>\n",
       "    </tr>\n",
       "    <tr>\n",
       "      <th>3</th>\n",
       "      <td>A-4</td>\n",
       "      <td>2016-02-08 07:23:34</td>\n",
       "      <td>2016-02-08 07:53:34</td>\n",
       "      <td>OH</td>\n",
       "      <td>Dayton</td>\n",
       "      <td>39.747753</td>\n",
       "      <td>-84.205582</td>\n",
       "      <td>35.1</td>\n",
       "      <td>Mostly Cloudy</td>\n",
       "      <td>7.0</td>\n",
       "    </tr>\n",
       "    <tr>\n",
       "      <th>4</th>\n",
       "      <td>A-5</td>\n",
       "      <td>2016-02-08 07:39:07</td>\n",
       "      <td>2016-02-08 08:09:07</td>\n",
       "      <td>OH</td>\n",
       "      <td>Dayton</td>\n",
       "      <td>39.627781</td>\n",
       "      <td>-84.188354</td>\n",
       "      <td>36.0</td>\n",
       "      <td>Mostly Cloudy</td>\n",
       "      <td>7.0</td>\n",
       "    </tr>\n",
       "  </tbody>\n",
       "</table>\n",
       "</div>"
      ],
      "text/plain": [
       "    ID           Start_Time             End_Time State          City  \\\n",
       "0  A-1  2016-02-08 05:46:00  2016-02-08 11:00:00    OH        Dayton   \n",
       "1  A-2  2016-02-08 06:07:59  2016-02-08 06:37:59    OH  Reynoldsburg   \n",
       "2  A-3  2016-02-08 06:49:27  2016-02-08 07:19:27    OH  Williamsburg   \n",
       "3  A-4  2016-02-08 07:23:34  2016-02-08 07:53:34    OH        Dayton   \n",
       "4  A-5  2016-02-08 07:39:07  2016-02-08 08:09:07    OH        Dayton   \n",
       "\n",
       "   Start_Lat  Start_Lng  Temperature(F) Weather_Condition  Hour  \n",
       "0  39.865147 -84.058723            36.9        Light Rain   5.0  \n",
       "1  39.928059 -82.831184            37.9        Light Rain   6.0  \n",
       "2  39.063148 -84.032608            36.0          Overcast   6.0  \n",
       "3  39.747753 -84.205582            35.1     Mostly Cloudy   7.0  \n",
       "4  39.627781 -84.188354            36.0     Mostly Cloudy   7.0  "
      ]
     },
     "execution_count": 7,
     "metadata": {},
     "output_type": "execute_result"
    }
   ],
   "source": [
    "import pandas as pd\n",
    "accidents_df = pd.read_csv(\"/Users/anshureddy/Desktop/dwproject/accidents_cleaned.csv\")\n",
    "accidents_df.head()"
   ]
  },
  {
   "cell_type": "markdown",
   "metadata": {},
   "source": [
    "#### 4.3. Which weather conditions are associated with most accidents?\n"
   ]
  },
  {
   "cell_type": "code",
   "execution_count": 8,
   "metadata": {},
   "outputs": [
    {
     "name": "stdout",
     "output_type": "stream",
     "text": [
      "\n",
      "Top Weather Conditions by Accident Count:\n",
      "Weather_Condition\n",
      "Fair                2196786\n",
      "Mostly Cloudy        921306\n",
      "Clear                805417\n",
      "Cloudy               712775\n",
      "Partly Cloudy        633258\n",
      "Overcast             381714\n",
      "Light Rain           321239\n",
      "Scattered Clouds     204104\n",
      "Light Snow           112076\n",
      "Fog                   87929\n",
      "Name: count, dtype: int64\n"
     ]
    }
   ],
   "source": [
    "# Count the number of accidents under each unique weather condition\n",
    "weather_accidents = accidents_df['Weather_Condition'].value_counts()\n",
    "print(\"\\nTop Weather Conditions by Accident Count:\")\n",
    "\n",
    "# Count the number of accidents under each unique weather condition\n",
    "print(weather_accidents.head(10))"
   ]
  },
  {
   "cell_type": "markdown",
   "metadata": {},
   "source": [
    "#### 4.4. Temperature vs Accidents (basic analysis)"
   ]
  },
  {
   "cell_type": "code",
   "execution_count": 9,
   "metadata": {},
   "outputs": [
    {
     "name": "stdout",
     "output_type": "stream",
     "text": [
      "\n",
      "Temperature Analysis:\n",
      "Average Temperature at Accident Time: 61.70 °F\n",
      "Accidents in cold (<32F): 480001\n",
      "Accidents in moderate (32-80F): 5175765\n",
      "Accidents in hot (>80F): 1149372\n"
     ]
    }
   ],
   "source": [
    "# Print average temperature during accidents\n",
    "print(\"\\nTemperature Analysis:\")\n",
    "print(f\"Average Temperature at Accident Time: {accidents_df['Temperature(F)'].mean():.2f} °F\")\n",
    "\n",
    "# Categorize accidents based on temperature ranges\n",
    "# Cold: < 32°F, Moderate: 32–80°F, Hot: > 80°F\n",
    "cold_accidents = accidents_df[accidents_df['Temperature(F)'] < 32].shape[0]\n",
    "moderate_accidents = accidents_df[(accidents_df['Temperature(F)'] >= 32) & (accidents_df['Temperature(F)'] <= 80)].shape[0]\n",
    "hot_accidents = accidents_df[accidents_df['Temperature(F)'] > 80].shape[0]\n",
    "\n",
    "# Print the number of accidents in each temperature category\n",
    "print(f\"Accidents in cold (<32F): {cold_accidents}\")\n",
    "print(f\"Accidents in moderate (32-80F): {moderate_accidents}\")\n",
    "print(f\"Accidents in hot (>80F): {hot_accidents}\")\n"
   ]
  },
  {
   "cell_type": "markdown",
   "metadata": {},
   "source": [
    "#### 4.5. Accident Duration Statistics"
   ]
  },
  {
   "cell_type": "code",
   "execution_count": 10,
   "metadata": {},
   "outputs": [
    {
     "name": "stdout",
     "output_type": "stream",
     "text": [
      "\n",
      "Accident Duration Statistics (in minutes):\n",
      "count    6.805138e+06\n",
      "mean     4.282940e+02\n",
      "std      1.328626e+04\n",
      "min      1.216667e+00\n",
      "25%      3.000000e+01\n",
      "50%      6.240000e+01\n",
      "75%      1.225000e+02\n",
      "max      2.812939e+06\n",
      "Name: Duration, dtype: float64\n"
     ]
    }
   ],
   "source": [
    "#Convert Start_Time and End_Time columns to datetime format\n",
    "# This is necessary to perform time-based operations like calculating Duration\n",
    "\n",
    "accidents_df['Start_Time'] = pd.to_datetime(accidents_df['Start_Time'], errors='coerce')\n",
    "accidents_df['End_Time'] = pd.to_datetime(accidents_df['End_Time'], errors='coerce')\n",
    "\n",
    "# Calculate accident duration in minutes\n",
    "# Subtracting Start_Time from End_Time gives a timedelta object, then convert to minutes\n",
    "accidents_df['Duration'] = (accidents_df['End_Time'] - accidents_df['Start_Time']).dt.total_seconds() / 60  # in minutes\n",
    "\n",
    "# Display summary statistics for accident duration\n",
    "print(\"\\nAccident Duration Statistics (in minutes):\")\n",
    "print(accidents_df['Duration'].describe())"
   ]
  }
 ],
 "metadata": {
  "kernelspec": {
   "display_name": "msds597",
   "language": "python",
   "name": "python3"
  },
  "language_info": {
   "codemirror_mode": {
    "name": "ipython",
    "version": 3
   },
   "file_extension": ".py",
   "mimetype": "text/x-python",
   "name": "python",
   "nbconvert_exporter": "python",
   "pygments_lexer": "ipython3",
   "version": "3.12.9"
  }
 },
 "nbformat": 4,
 "nbformat_minor": 2
}
