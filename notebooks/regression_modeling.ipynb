{
 "cells": [
  {
   "cell_type": "markdown",
   "metadata": {},
   "source": [
    "## 5. Regression Modelling"
   ]
  },
  {
   "cell_type": "markdown",
   "metadata": {},
   "source": [
    "#### 5.1 Logistic Regression: Data Preparation\n"
   ]
  },
  {
   "cell_type": "code",
   "execution_count": 25,
   "metadata": {},
   "outputs": [
    {
     "data": {
      "text/plain": [
       "['ID',\n",
       " 'Start_Time',\n",
       " 'End_Time',\n",
       " 'State',\n",
       " 'City',\n",
       " 'Start_Lat',\n",
       " 'Start_Lng',\n",
       " 'Temperature(F)',\n",
       " 'Weather_Condition',\n",
       " 'Hour']"
      ]
     },
     "execution_count": 25,
     "metadata": {},
     "output_type": "execute_result"
    }
   ],
   "source": [
    "import pandas as pd\n",
    "from sklearn.linear_model import LinearRegression\n",
    "from sklearn.metrics import mean_squared_error, r2_score\n",
    "\n",
    "accidents_df = pd.read_csv(\"/Users/anshureddy/Desktop/dwproject/accidents_cleaned.csv\")\n",
    "accidents_df.columns.tolist()\n"
   ]
  },
  {
   "cell_type": "code",
   "execution_count": 26,
   "metadata": {},
   "outputs": [],
   "source": [
    "# Convert time columns to datetime format\n",
    "accidents_df['Start_Time'] = pd.to_datetime(accidents_df['Start_Time'], errors='coerce')\n",
    "accidents_df['End_Time'] = pd.to_datetime(accidents_df['End_Time'], errors='coerce')\n",
    "\n",
    "# Calculate accident duration in minutes\n",
    "accidents_df['Duration'] = (accidents_df['End_Time'] - accidents_df['Start_Time']).dt.total_seconds() / 60\n",
    "\n",
    "# Select relevant columns and drop missing values\n",
    "relevant_cols = ['Hour', 'Temperature(F)', 'Start_Lat', 'Start_Lng', 'Duration']\n",
    "regression_df = accidents_df[relevant_cols].dropna()\n",
    "\n",
    "# Define X (features) and y (target)\n",
    "X = regression_df[['Hour', 'Temperature(F)', 'Start_Lat', 'Start_Lng']]\n",
    "y = regression_df['Duration']"
   ]
  },
  {
   "cell_type": "markdown",
   "metadata": {},
   "source": [
    "#### 5.1 Linear Regression: Model Fitting and Output"
   ]
  },
  {
   "cell_type": "code",
   "execution_count": 27,
   "metadata": {},
   "outputs": [
    {
     "name": "stdout",
     "output_type": "stream",
     "text": [
      "5.1 Linear Regression: Predicting Duration (minutes)\n",
      "  Mean Squared Error (MSE): 176460760.65\n",
      "  R-squared (R²): 0.00\n",
      "  Coefficients:\n",
      "    Hour: 6.5952\n",
      "    Temperature(F): -5.2291\n",
      "    Start_Lat: -55.0522\n",
      "    Start_Lng: 0.3222\n"
     ]
    }
   ],
   "source": [
    "# Fit the model\n",
    "linear_model = LinearRegression()\n",
    "linear_model.fit(X, y)\n",
    "y_pred_linear = linear_model.predict(X)\n",
    "\n",
    "# Evaluate Linear Regression on training data\n",
    "mse_linear = mean_squared_error(y, y_pred_linear)\n",
    "r2_linear = r2_score(y, y_pred_linear)\n",
    "\n",
    "# Print results\n",
    "print(\"5.1 Linear Regression: Predicting Duration (minutes)\")\n",
    "print(f\"  Mean Squared Error (MSE): {mse_linear:.2f}\")\n",
    "print(f\"  R-squared (R²): {r2_linear:.2f}\")\n",
    "print(\"  Coefficients:\")\n",
    "for feature, coef in zip(X.columns, linear_model.coef_):\n",
    "    print(f\"    {feature}: {coef:.4f}\")"
   ]
  },
  {
   "cell_type": "markdown",
   "metadata": {},
   "source": [
    "#### 5.2 Ridge vs Linear Regression: Data Preparation\n"
   ]
  },
  {
   "cell_type": "code",
   "execution_count": 28,
   "metadata": {},
   "outputs": [
    {
     "name": "stdout",
     "output_type": "stream",
     "text": [
      "5.2 Ridge Regression: Predicting Duration (minutes)\n",
      "  Mean Squared Error (MSE): 176460760.65\n",
      "  R-squared (R²): 0.00\n",
      "  Coefficients:\n",
      "    Hour: 6.5952\n",
      "    Temperature(F): -5.2291\n",
      "    Start_Lat: -55.0522\n",
      "    Start_Lng: 0.3222\n"
     ]
    }
   ],
   "source": [
    "from sklearn.linear_model import Ridge\n",
    "\n",
    "# Fit Ridge Regression model (with L2 regularization)\n",
    "ridge_model = Ridge(alpha=1.0)\n",
    "ridge_model.fit(X, y)\n",
    "y_pred_ridge = ridge_model.predict(X)\n",
    "\n",
    "# Evaluate Ridge model performance\n",
    "mse_ridge = mean_squared_error(y, y_pred_ridge)\n",
    "r2_ridge = r2_score(y, y_pred_ridge)\n",
    "\n",
    "# Print Ridge results\n",
    "print(\"5.2 Ridge Regression: Predicting Duration (minutes)\")\n",
    "print(f\"  Mean Squared Error (MSE): {mse_ridge:.2f}\")\n",
    "print(f\"  R-squared (R²): {r2_ridge:.2f}\")\n",
    "print(\"  Coefficients:\")\n",
    "for feature, coef in zip(X.columns, ridge_model.coef_):\n",
    "    print(f\"    {feature}: {coef:.4f}\")"
   ]
  },
  {
   "cell_type": "code",
   "execution_count": 29,
   "metadata": {},
   "outputs": [
    {
     "name": "stdout",
     "output_type": "stream",
     "text": [
      "Model Comparison: Predicting Duration (minutes)\n",
      "Linear Regression -> MSE: 176460760.65, R²: 0.00\n",
      "Ridge Regression  -> MSE: 176460760.65, R²: 0.00\n"
     ]
    }
   ],
   "source": [
    "# Model Comparison Summary\n",
    "print(\"Model Comparison: Predicting Duration (minutes)\")\n",
    "print(f\"Linear Regression -> MSE: {mse_linear:.2f}, R²: {r2_linear:.2f}\")\n",
    "print(f\"Ridge Regression  -> MSE: {mse_ridge:.2f}, R²: {r2_ridge:.2f}\")\n"
   ]
  },
  {
   "cell_type": "markdown",
   "metadata": {},
   "source": [
    "#### 5.3 Model Evaluation on Test Data"
   ]
  },
  {
   "cell_type": "code",
   "execution_count": 30,
   "metadata": {},
   "outputs": [
    {
     "name": "stdout",
     "output_type": "stream",
     "text": [
      "5.3 Model Evaluation on Test Data\n",
      "Linear Regression -> MSE: 170495333.51, R²: 0.00\n",
      "Ridge Regression  -> MSE: 170495333.51, R²: 0.00\n"
     ]
    }
   ],
   "source": [
    "from sklearn.model_selection import train_test_split\n",
    "\n",
    "# Split data into training and testing sets (80/20)\n",
    "X_train, X_test, y_train, y_test = train_test_split(X, y, test_size=0.2, random_state=42)\n",
    "\n",
    "# Train models on training data\n",
    "linear_model.fit(X_train, y_train)\n",
    "ridge_model.fit(X_train, y_train)\n",
    "\n",
    "# Predict on test set\n",
    "y_pred_linear_test = linear_model.predict(X_test)\n",
    "y_pred_ridge_test = ridge_model.predict(X_test)\n",
    "\n",
    "# Evaluate performance on test data\n",
    "mse_linear_test = mean_squared_error(y_test, y_pred_linear_test)\n",
    "r2_linear_test = r2_score(y_test, y_pred_linear_test)\n",
    "\n",
    "mse_ridge_test = mean_squared_error(y_test, y_pred_ridge_test)\n",
    "r2_ridge_test = r2_score(y_test, y_pred_ridge_test)\n",
    "\n",
    "# Print test performance\n",
    "print(\"5.3 Model Evaluation on Test Data\")\n",
    "print(f\"Linear Regression -> MSE: {mse_linear_test:.2f}, R²: {r2_linear_test:.2f}\")\n",
    "print(f\"Ridge Regression  -> MSE: {mse_ridge_test:.2f}, R²: {r2_ridge_test:.2f}\")\n"
   ]
  },
  {
   "cell_type": "markdown",
   "metadata": {},
   "source": [
    "## Summary Statistics "
   ]
  },
  {
   "cell_type": "code",
   "execution_count": 31,
   "metadata": {},
   "outputs": [
    {
     "name": "stdout",
     "output_type": "stream",
     "text": [
      "Summary Statistics for Key Variables:\n"
     ]
    },
    {
     "data": {
      "text/html": [
       "<div>\n",
       "<style scoped>\n",
       "    .dataframe tbody tr th:only-of-type {\n",
       "        vertical-align: middle;\n",
       "    }\n",
       "\n",
       "    .dataframe tbody tr th {\n",
       "        vertical-align: top;\n",
       "    }\n",
       "\n",
       "    .dataframe thead th {\n",
       "        text-align: right;\n",
       "    }\n",
       "</style>\n",
       "<table border=\"1\" class=\"dataframe\">\n",
       "  <thead>\n",
       "    <tr style=\"text-align: right;\">\n",
       "      <th></th>\n",
       "      <th>count</th>\n",
       "      <th>mean</th>\n",
       "      <th>std</th>\n",
       "      <th>min</th>\n",
       "      <th>25%</th>\n",
       "      <th>50%</th>\n",
       "      <th>75%</th>\n",
       "      <th>max</th>\n",
       "      <th>Missing (%)</th>\n",
       "    </tr>\n",
       "  </thead>\n",
       "  <tbody>\n",
       "    <tr>\n",
       "      <th>Duration</th>\n",
       "      <td>6805138.0</td>\n",
       "      <td>428.29</td>\n",
       "      <td>13286.26</td>\n",
       "      <td>1.22</td>\n",
       "      <td>30.00</td>\n",
       "      <td>62.40</td>\n",
       "      <td>122.50</td>\n",
       "      <td>2812939.00</td>\n",
       "      <td>0.0</td>\n",
       "    </tr>\n",
       "    <tr>\n",
       "      <th>Temperature(F)</th>\n",
       "      <td>6805138.0</td>\n",
       "      <td>61.70</td>\n",
       "      <td>18.91</td>\n",
       "      <td>-89.00</td>\n",
       "      <td>49.00</td>\n",
       "      <td>64.00</td>\n",
       "      <td>76.00</td>\n",
       "      <td>207.00</td>\n",
       "      <td>0.0</td>\n",
       "    </tr>\n",
       "    <tr>\n",
       "      <th>Hour</th>\n",
       "      <td>6805138.0</td>\n",
       "      <td>12.27</td>\n",
       "      <td>5.45</td>\n",
       "      <td>0.00</td>\n",
       "      <td>8.00</td>\n",
       "      <td>13.00</td>\n",
       "      <td>17.00</td>\n",
       "      <td>23.00</td>\n",
       "      <td>0.0</td>\n",
       "    </tr>\n",
       "    <tr>\n",
       "      <th>Start_Lat</th>\n",
       "      <td>6805138.0</td>\n",
       "      <td>36.22</td>\n",
       "      <td>5.07</td>\n",
       "      <td>24.55</td>\n",
       "      <td>33.40</td>\n",
       "      <td>35.79</td>\n",
       "      <td>40.11</td>\n",
       "      <td>49.00</td>\n",
       "      <td>0.0</td>\n",
       "    </tr>\n",
       "    <tr>\n",
       "      <th>Start_Lng</th>\n",
       "      <td>6805138.0</td>\n",
       "      <td>-94.76</td>\n",
       "      <td>17.33</td>\n",
       "      <td>-124.62</td>\n",
       "      <td>-117.21</td>\n",
       "      <td>-87.90</td>\n",
       "      <td>-80.42</td>\n",
       "      <td>-67.11</td>\n",
       "      <td>0.0</td>\n",
       "    </tr>\n",
       "  </tbody>\n",
       "</table>\n",
       "</div>"
      ],
      "text/plain": [
       "                    count    mean       std     min     25%    50%     75%  \\\n",
       "Duration        6805138.0  428.29  13286.26    1.22   30.00  62.40  122.50   \n",
       "Temperature(F)  6805138.0   61.70     18.91  -89.00   49.00  64.00   76.00   \n",
       "Hour            6805138.0   12.27      5.45    0.00    8.00  13.00   17.00   \n",
       "Start_Lat       6805138.0   36.22      5.07   24.55   33.40  35.79   40.11   \n",
       "Start_Lng       6805138.0  -94.76     17.33 -124.62 -117.21 -87.90  -80.42   \n",
       "\n",
       "                       max  Missing (%)  \n",
       "Duration        2812939.00          0.0  \n",
       "Temperature(F)      207.00          0.0  \n",
       "Hour                 23.00          0.0  \n",
       "Start_Lat            49.00          0.0  \n",
       "Start_Lng           -67.11          0.0  "
      ]
     },
     "execution_count": 31,
     "metadata": {},
     "output_type": "execute_result"
    }
   ],
   "source": [
    "# Summary Statistics for Numeric Variables\n",
    "# Convert time columns to datetime format to calculate duration\n",
    "accidents_df['Start_Time'] = pd.to_datetime(accidents_df['Start_Time'], errors='coerce')\n",
    "accidents_df['End_Time'] = pd.to_datetime(accidents_df['End_Time'], errors='coerce')\n",
    "\n",
    "# Calculate accident duration in minutes\n",
    "accidents_df['Duration'] = (accidents_df['End_Time'] - accidents_df['Start_Time']).dt.total_seconds() / 60\n",
    "\n",
    "# Select key numeric variables for summary analysis\n",
    "numeric_cols = ['Duration', 'Temperature(F)', 'Hour', 'Start_Lat', 'Start_Lng']\n",
    "\n",
    "# Prepare a clean subset with no missing values for accurate statistics\n",
    "summary_df = accidents_df[numeric_cols].dropna()\n",
    "\n",
    "# Generate descriptive statistics for each variable\n",
    "summary_stats = summary_df.describe().T  # Transposed for easier readability\n",
    "\n",
    "# Include the percentage of missing values from the original dataset\n",
    "summary_stats['Missing (%)'] = (\n",
    "    accidents_df[numeric_cols].isnull().sum() / len(accidents_df) * 100\n",
    ")\n",
    "\n",
    "# Round values for cleaner display\n",
    "summary_stats = summary_stats.round(2)\n",
    "\n",
    "# Display the summary table\n",
    "print(\"Summary Statistics for Key Variables:\")\n",
    "summary_stats"
   ]
  }
 ],
 "metadata": {
  "kernelspec": {
   "display_name": "msds597",
   "language": "python",
   "name": "python3"
  },
  "language_info": {
   "codemirror_mode": {
    "name": "ipython",
    "version": 3
   },
   "file_extension": ".py",
   "mimetype": "text/x-python",
   "name": "python",
   "nbconvert_exporter": "python",
   "pygments_lexer": "ipython3",
   "version": "3.12.9"
  }
 },
 "nbformat": 4,
 "nbformat_minor": 2
}
