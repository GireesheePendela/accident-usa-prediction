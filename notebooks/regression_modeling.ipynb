{
 "cells": [
  {
   "cell_type": "markdown",
   "metadata": {},
   "source": [
    "## 5. Regression Modelling"
   ]
  },
  {
   "cell_type": "markdown",
   "metadata": {},
   "source": [
    "#### 5.1 Logistic Regression: Data Preparation\n"
   ]
  },
  {
   "cell_type": "code",
   "execution_count": 16,
   "metadata": {},
   "outputs": [
    {
     "data": {
      "text/plain": [
       "['ID',\n",
       " 'Start_Time',\n",
       " 'End_Time',\n",
       " 'State',\n",
       " 'City',\n",
       " 'Start_Lat',\n",
       " 'Start_Lng',\n",
       " 'Temperature(F)',\n",
       " 'Weather_Condition',\n",
       " 'Hour']"
      ]
     },
     "execution_count": 16,
     "metadata": {},
     "output_type": "execute_result"
    }
   ],
   "source": [
    "import pandas as pd\n",
    "from sklearn.linear_model import LinearRegression\n",
    "from sklearn.metrics import mean_squared_error, r2_score\n",
    "\n",
    "accidents_df = pd.read_csv(\"/Users/anshureddy/Desktop/dwproject/accidents_cleaned.csv\")\n",
    "accidents_df.columns.tolist()\n"
   ]
  },
  {
   "cell_type": "code",
   "execution_count": 17,
   "metadata": {},
   "outputs": [],
   "source": [
    "# Convert time columns to datetime format\n",
    "accidents_df['Start_Time'] = pd.to_datetime(accidents_df['Start_Time'], errors='coerce')\n",
    "accidents_df['End_Time'] = pd.to_datetime(accidents_df['End_Time'], errors='coerce')\n",
    "\n",
    "# Calculate accident duration in minutes\n",
    "accidents_df['Duration'] = (accidents_df['End_Time'] - accidents_df['Start_Time']).dt.total_seconds() / 60\n",
    "\n",
    "# Select relevant columns and drop missing values\n",
    "relevant_cols = ['Hour', 'Temperature(F)', 'Start_Lat', 'Start_Lng', 'Duration']\n",
    "regression_df = accidents_df[relevant_cols].dropna()\n",
    "\n",
    "# Define X (features) and y (target)\n",
    "X = regression_df[['Hour', 'Temperature(F)', 'Start_Lat', 'Start_Lng']]\n",
    "y = regression_df['Duration']"
   ]
  },
  {
   "cell_type": "markdown",
   "metadata": {},
   "source": [
    "#### 5.1 Linear Regression: Model Fitting and Output"
   ]
  },
  {
   "cell_type": "code",
   "execution_count": 12,
   "metadata": {},
   "outputs": [
    {
     "name": "stdout",
     "output_type": "stream",
     "text": [
      "Linear Regression: Predicting Duration (minutes)\n",
      "  Mean Squared Error (MSE): 176460760.65\n",
      "  R-squared (R²): 0.00\n",
      "  Coefficients:\n",
      "    Hour: 6.5952\n",
      "    Temperature(F): -5.2291\n",
      "    Start_Lat: -55.0522\n",
      "    Start_Lng: 0.3222\n"
     ]
    }
   ],
   "source": [
    "# Fit the model\n",
    "model = LinearRegression()\n",
    "model.fit(X, y)\n",
    "\n",
    "# Predict on training data\n",
    "y_pred = model.predict(X)\n",
    "\n",
    "# Evaluation metrics\n",
    "mse = mean_squared_error(y, y_pred)\n",
    "r2 = r2_score(y, y_pred)\n",
    "\n",
    "# Print results\n",
    "print(\"Linear Regression: Predicting Duration (minutes)\")\n",
    "print(f\"  Mean Squared Error (MSE): {mse:.2f}\")\n",
    "print(f\"  R-squared (R²): {r2:.2f}\")\n",
    "print(\"  Coefficients:\")\n",
    "for feature, coef in zip(X.columns, model.coef_):\n",
    "    print(f\"    {feature}: {coef:.4f}\")"
   ]
  }
 ],
 "metadata": {
  "kernelspec": {
   "display_name": "msds597",
   "language": "python",
   "name": "python3"
  },
  "language_info": {
   "codemirror_mode": {
    "name": "ipython",
    "version": 3
   },
   "file_extension": ".py",
   "mimetype": "text/x-python",
   "name": "python",
   "nbconvert_exporter": "python",
   "pygments_lexer": "ipython3",
   "version": "3.12.9"
  }
 },
 "nbformat": 4,
 "nbformat_minor": 2
}
