{
 "cells": [
  {
   "cell_type": "markdown",
   "metadata": {},
   "source": [
    "## 5. Regression Modelling"
   ]
  },
  {
   "cell_type": "markdown",
   "metadata": {},
   "source": [
    "### Predicting Accident Frequency Based on Weather, Temperature, State, and City)"
   ]
  },
  {
   "cell_type": "markdown",
   "metadata": {},
   "source": [
    "#### 5.1 Linear Regression: Data Preparation\n"
   ]
  },
  {
   "cell_type": "code",
   "execution_count": 2,
   "metadata": {},
   "outputs": [],
   "source": [
    "import pandas as pd\n",
    "from sklearn.linear_model import LinearRegression\n",
    "from sklearn.metrics import mean_squared_error, r2_score\n",
    "\n",
    "# Load the dataset\n",
    "accidents_df = pd.read_csv(\"/Users/anshureddy/Desktop/dwproject/accidents_cleaned.csv\")\n",
    "\n",
    "# Convert categorical variables to numeric using Label Encoding\n",
    "from sklearn.preprocessing import LabelEncoder\n",
    "label_encoder = LabelEncoder()\n",
    "accidents_df['Weather_Condition'] = label_encoder.fit_transform(accidents_df['Weather_Condition'])\n",
    "accidents_df['State'] = label_encoder.fit_transform(accidents_df['State'])\n",
    "accidents_df['City'] = label_encoder.fit_transform(accidents_df['City'])\n",
    "\n",
    "# Group accidents by 'Hour' and calculate the frequency (count) of accidents per hour\n",
    "accidents_by_hour = accidents_df.groupby('Hour').size().reset_index(name='Accident_Frequency')\n",
    "\n",
    "# Merge the accident frequency with the original dataset on 'Hour'\n",
    "accidents_hourly = pd.merge(accidents_df, accidents_by_hour[['Hour', 'Accident_Frequency']], on='Hour')\n",
    "\n",
    "# Select relevant features for prediction\n",
    "X = accidents_hourly[['Weather_Condition', 'Temperature(F)', 'State', 'City']]\n",
    "y = accidents_hourly['Accident_Frequency']\n"
   ]
  },
  {
   "cell_type": "markdown",
   "metadata": {},
   "source": [
    "#### 5.1 Linear Regression: Model Fitting and Output"
   ]
  },
  {
   "cell_type": "code",
   "execution_count": 4,
   "metadata": {},
   "outputs": [
    {
     "name": "stdout",
     "output_type": "stream",
     "text": [
      "Linear Regression Results - Predicting Accident Frequency:\n",
      "  Mean Squared Error (MSE): 17968374622.93\n",
      "  R-squared (R²): 0.02\n",
      "Linear Regression Coefficients - Influence of Each Feature on Accident Frequency:\n",
      "  Weather_Condition: 230.4524\n",
      "  Temperature(F): 777.9901\n",
      "  State: 439.4800\n",
      "  City: -0.0574\n",
      "\n",
      "Explanation of Features:\n",
      "  - Weather_Condition is numerically encoded (e.g., 0 = Clear, 1 = Rainy, 2 = Snowy, etc.).\n",
      "  - For each unit increase in Weather_Condition, the predicted accident frequency increases by 230.45 accidents.\n",
      "  - Temperature(F) represents the effect of temperature on accidents, with each 1°F increase leading to an increase of 777.99 accidents.\n",
      "  - State is encoded numerically, with each unit increase in State leading to an increase of 439.48 accidents.\n",
      "  - City has a negative relationship, with each unit increase in City corresponding to a decrease of 0.0574 accidents.\n"
     ]
    }
   ],
   "source": [
    "# Split the data into training and test sets\n",
    "from sklearn.model_selection import train_test_split\n",
    "X_train, X_test, y_train, y_test = train_test_split(X, y, test_size=0.2, random_state=42)\n",
    "\n",
    "# Initialize and train the Linear Regression model\n",
    "linear_model = LinearRegression()\n",
    "linear_model.fit(X_train, y_train)\n",
    "\n",
    "# Predict accident frequency on the test set\n",
    "y_pred_linear = linear_model.predict(X_test)\n",
    "\n",
    "# Evaluate the Linear Regression model\n",
    "mse_linear = mean_squared_error(y_test, y_pred_linear)\n",
    "r2_linear = r2_score(y_test, y_pred_linear)\n",
    "\n",
    "# Print the results\n",
    "print(\"Linear Regression Results - Predicting Accident Frequency:\")\n",
    "print(f\"  Mean Squared Error (MSE): {mse_linear:.2f}\")\n",
    "print(f\"  R-squared (R²): {r2_linear:.2f}\")\n",
    "\n",
    "# Print the model coefficients\n",
    "print(\"Linear Regression Coefficients - Influence of Each Feature on Accident Frequency:\")\n",
    "for feature, coef in zip(X.columns, linear_model.coef_):\n",
    "    print(f\"  {feature}: {coef:.4f}\")\n",
    "\n",
    "# Include explanation for Weather_Condition coefficient\n",
    "print(\"\\nExplanation of Features:\")\n",
    "print(\"  - Weather_Condition is numerically encoded (e.g., 0 = Clear, 1 = Rainy, 2 = Snowy, etc.).\")\n",
    "print(\"  - For each unit increase in Weather_Condition, the predicted accident frequency increases by 230.45 accidents.\")\n",
    "print(\"  - Temperature(F) represents the effect of temperature on accidents, with each 1°F increase leading to an increase of 777.99 accidents.\")\n",
    "print(\"  - State is encoded numerically, with each unit increase in State leading to an increase of 439.48 accidents.\")\n",
    "print(\"  - City has a negative relationship, with each unit increase in City corresponding to a decrease of 0.0574 accidents.\")"
   ]
  },
  {
   "cell_type": "markdown",
   "metadata": {},
   "source": [
    "#### 5.2 Ridge vs Linear Regression: Data Preparation\n"
   ]
  },
  {
   "cell_type": "code",
   "execution_count": 6,
   "metadata": {},
   "outputs": [
    {
     "name": "stdout",
     "output_type": "stream",
     "text": [
      "Ridge Regression Results - Predicting Accident Frequency:\n",
      "  Mean Squared Error (MSE): 17968374622.94\n",
      "  R-squared (R²): 0.02\n",
      "Ridge Regression Coefficients - Influence of Each Feature on Accident Frequency:\n",
      "  Weather_Condition: 230.4524\n",
      "  Temperature(F): 777.9901\n",
      "  State: 439.4800\n",
      "  City: -0.0574\n",
      "\n",
      "Explanation of Features:\n",
      "  - Weather_Condition is numerically encoded (e.g., 0 = Clear, 1 = Rainy, 2 = Snowy, etc.).\n",
      "  - For each unit increase in Weather_Condition, the predicted accident frequency increases by 230.45 accidents.\n",
      "  - Temperature(F) represents the effect of temperature on accidents, with each 1°F increase leading to an increase of 777.99 accidents.\n",
      "  - State is encoded numerically, with each unit increase in State leading to an increase of 439.48 accidents.\n",
      "  - City has a negative relationship, with each unit increase in City corresponding to a decrease of 0.0574 accidents.\n"
     ]
    }
   ],
   "source": [
    "from sklearn.linear_model import Ridge\n",
    "\n",
    "# Fit Ridge Regression model (with L2 regularization)\n",
    "ridge_model = Ridge(alpha=1.0)\n",
    "ridge_model.fit(X_train, y_train)\n",
    "\n",
    "# Predict accident frequency on the test set\n",
    "y_pred_ridge = ridge_model.predict(X_test)\n",
    "\n",
    "# Evaluate the Ridge model\n",
    "mse_ridge = mean_squared_error(y_test, y_pred_ridge)\n",
    "r2_ridge = r2_score(y_test, y_pred_ridge)\n",
    "\n",
    "# Print the results\n",
    "print(\"Ridge Regression Results - Predicting Accident Frequency:\")\n",
    "print(f\"  Mean Squared Error (MSE): {mse_ridge:.2f}\")\n",
    "print(f\"  R-squared (R²): {r2_ridge:.2f}\")\n",
    "\n",
    "print(\"Ridge Regression Coefficients - Influence of Each Feature on Accident Frequency:\")\n",
    "for feature, coef in zip(X.columns, ridge_model.coef_):\n",
    "    print(f\"  {feature}: {coef:.4f}\")\n",
    "\n",
    "# Include explanation for Weather_Condition coefficient in Ridge Regression\n",
    "print(\"\\nExplanation of Features:\")\n",
    "print(\"  - Weather_Condition is numerically encoded (e.g., 0 = Clear, 1 = Rainy, 2 = Snowy, etc.).\")\n",
    "print(\"  - For each unit increase in Weather_Condition, the predicted accident frequency increases by 230.45 accidents.\")\n",
    "print(\"  - Temperature(F) represents the effect of temperature on accidents, with each 1°F increase leading to an increase of 777.99 accidents.\")\n",
    "print(\"  - State is encoded numerically, with each unit increase in State leading to an increase of 439.48 accidents.\")\n",
    "print(\"  - City has a negative relationship, with each unit increase in City corresponding to a decrease of 0.0574 accidents.\")"
   ]
  },
  {
   "cell_type": "markdown",
   "metadata": {},
   "source": [
    "#### 5.3 Model Evaluation on Test Data"
   ]
  },
  {
   "cell_type": "code",
   "execution_count": 8,
   "metadata": {},
   "outputs": [
    {
     "name": "stdout",
     "output_type": "stream",
     "text": [
      "Model Evaluation on Test Data - Comparison of Linear and Ridge Regression:\n",
      "Linear Regression -> MSE: 17968374622.93, R²: 0.02\n",
      "Ridge Regression  -> MSE: 17968374622.94, R²: 0.02\n"
     ]
    }
   ],
   "source": [
    "# Evaluate performance on test data\n",
    "mse_linear_test = mean_squared_error(y_test, y_pred_linear)\n",
    "r2_linear_test = r2_score(y_test, y_pred_linear)\n",
    "\n",
    "mse_ridge_test = mean_squared_error(y_test, y_pred_ridge)\n",
    "r2_ridge_test = r2_score(y_test, y_pred_ridge)\n",
    "\n",
    "# Print test performance\n",
    "print(\"Model Evaluation on Test Data - Comparison of Linear and Ridge Regression:\")\n",
    "print(f\"Linear Regression -> MSE: {mse_linear_test:.2f}, R²: {r2_linear_test:.2f}\")\n",
    "print(f\"Ridge Regression  -> MSE: {mse_ridge_test:.2f}, R²: {r2_ridge_test:.2f}\")\n"
   ]
  },
  {
   "cell_type": "markdown",
   "metadata": {},
   "source": [
    "## Summary Statistics "
   ]
  },
  {
   "cell_type": "code",
   "execution_count": 10,
   "metadata": {},
   "outputs": [
    {
     "name": "stdout",
     "output_type": "stream",
     "text": [
      "Numerical Data Summary:\n",
      "       Temperature(F)     Start_Lat     Start_Lng          Hour\n",
      "count    6.805138e+06  6.805138e+06  6.805138e+06  6.805138e+06\n",
      "mean     6.169845e+01  3.621612e+01 -9.476481e+01  1.227399e+01\n",
      "std      1.891321e+01  5.073536e+00  1.732566e+01  5.446748e+00\n",
      "min     -8.900000e+01  2.455480e+01 -1.246238e+02  0.000000e+00\n",
      "25%      4.900000e+01  3.340301e+01 -1.172136e+02  8.000000e+00\n",
      "50%      6.400000e+01  3.579237e+01 -8.790092e+01  1.300000e+01\n",
      "75%      7.600000e+01  4.011233e+01 -8.042281e+01  1.700000e+01\n",
      "max      2.070000e+02  4.900220e+01 -6.711317e+01  2.300000e+01\n",
      "\n",
      "Categorical Data Summary:\n",
      "          State     City Weather_Condition\n",
      "count   6805138  6805138           6805138\n",
      "unique       49    13150               142\n",
      "top          CA  Houston              Fair\n",
      "freq    1521976   157540           2196786\n",
      "\n",
      "Missing Values:\n",
      "ID                   0\n",
      "Start_Time           0\n",
      "End_Time             0\n",
      "State                0\n",
      "City                 0\n",
      "Start_Lat            0\n",
      "Start_Lng            0\n",
      "Temperature(F)       0\n",
      "Weather_Condition    0\n",
      "Hour                 0\n",
      "dtype: int64\n",
      "\n",
      "Correlation Matrix:\n",
      "                Temperature(F)  Start_Lat  Start_Lng      Hour\n",
      "Temperature(F)        1.000000  -0.440796  -0.015966  0.190139\n",
      "Start_Lat            -0.440796   1.000000  -0.065729 -0.010010\n",
      "Start_Lng            -0.015966  -0.065729   1.000000 -0.012075\n",
      "Hour                  0.190139  -0.010010  -0.012075  1.000000\n"
     ]
    }
   ],
   "source": [
    "import pandas as pd\n",
    "\n",
    "# Load the dataset\n",
    "accidents_df = pd.read_csv(\"/Users/anshureddy/Desktop/dwproject/accidents_cleaned.csv\")\n",
    "\n",
    "# Summary statistics for numerical columns (Temperature(F), Start_Lat, Start_Lng, Hour)\n",
    "numerical_summary = accidents_df[['Temperature(F)', 'Start_Lat', 'Start_Lng', 'Hour']].describe()\n",
    "print(\"Numerical Data Summary:\")\n",
    "print(numerical_summary)\n",
    "\n",
    "# Summary statistics for categorical columns (State, City, Weather_Condition)\n",
    "categorical_summary = accidents_df[['State', 'City', 'Weather_Condition']].describe()\n",
    "print(\"\\nCategorical Data Summary:\")\n",
    "print(categorical_summary)\n",
    "\n",
    "# Check for missing values\n",
    "missing_values = accidents_df.isnull().sum()  # Count of missing values in each column\n",
    "print(\"\\nMissing Values:\")\n",
    "print(missing_values)\n",
    "\n",
    "# Correlation matrix for numerical columns\n",
    "correlation_matrix = accidents_df[['Temperature(F)', 'Start_Lat', 'Start_Lng', 'Hour']].corr()\n",
    "print(\"\\nCorrelation Matrix:\")\n",
    "print(correlation_matrix)\n"
   ]
  },
  {
   "cell_type": "code",
   "execution_count": null,
   "metadata": {},
   "outputs": [],
   "source": []
  }
 ],
 "metadata": {
  "kernelspec": {
   "display_name": "msds579",
   "language": "python",
   "name": "myenv"
  },
  "language_info": {
   "codemirror_mode": {
    "name": "ipython",
    "version": 3
   },
   "file_extension": ".py",
   "mimetype": "text/x-python",
   "name": "python",
   "nbconvert_exporter": "python",
   "pygments_lexer": "ipython3",
   "version": "3.12.4"
  }
 },
 "nbformat": 4,
 "nbformat_minor": 4
}
